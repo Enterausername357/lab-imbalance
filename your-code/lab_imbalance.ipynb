{
  "cells": [
    {
      "cell_type": "markdown",
      "metadata": {
        "id": "mXdNsj7EsqR8"
      },
      "source": [
        "# Inbalanced Classes\n",
        "## In this lab, we are going to explore a case of imbalanced classes.\n",
        "\n",
        "\n",
        "Like we disussed in class, when we have noisy data, if we are not careful, we can end up fitting our model to the noise in the data and not the 'signal'-- the factors that actually determine the outcome. This is called overfitting, and results in good results in training, and in bad results when the model is applied to real data. Similarly, we could have a model that is too simplistic to accurately model the signal. This produces a model that doesnt work well (ever).\n"
      ]
    },
    {
      "cell_type": "markdown",
      "metadata": {
        "id": "kj35dszdsqR9"
      },
      "source": [
        "### Note: before doing the first commit, make sure you don't include the large csv file, either by adding it to .gitignore, or by deleting it."
      ]
    },
    {
      "cell_type": "markdown",
      "metadata": {
        "id": "bmmIMKbZsqR-"
      },
      "source": [
        "### First, download the data from: https://www.kaggle.com/datasets/chitwanmanchanda/fraudulent-transactions-data?resource=download . Import the dataset and provide some discriptive statistics and plots. What do you think will be the important features in determining the outcome?\n",
        "### Note: don't use the entire dataset, use a sample instead, with n=100000 elements, so your computer doesn't freeze."
      ]
    },
    {
      "cell_type": "code",
      "execution_count": 32,
      "metadata": {
        "id": "XffSo2GisqR-"
      },
      "outputs": [],
      "source": [
        "# Your code here\n",
        "import pandas as pd\n",
        "import numpy as np\n",
        "import matplotlib.pyplot as plt\n",
        "import seaborn as sns"
      ]
    },
    {
      "cell_type": "code",
      "source": [
        "import pandas as pd\n",
        "\n",
        "# Load the dataset (assuming the zip is already extracted and csv is in Colab)\n",
        "data = pd.read_csv('Fraud.csv')\n",
        "\n",
        "# Extract a sample of n=100,000 elements\n",
        "sample_data = data.sample(n=100000, random_state=42)"
      ],
      "metadata": {
        "id": "ABQkeBxVti9K"
      },
      "execution_count": 33,
      "outputs": []
    },
    {
      "cell_type": "code",
      "source": [
        "# Display basic information and descriptive statistics\n",
        "print(sample_data.info())\n"
      ],
      "metadata": {
        "colab": {
          "base_uri": "https://localhost:8080/"
        },
        "id": "LMG28xIetjFx",
        "outputId": "f78df981-f87b-45c1-ddd2-1fc29fb4af3c"
      },
      "execution_count": 34,
      "outputs": [
        {
          "output_type": "stream",
          "name": "stdout",
          "text": [
            "<class 'pandas.core.frame.DataFrame'>\n",
            "Index: 100000 entries, 3737323 to 6142173\n",
            "Data columns (total 11 columns):\n",
            " #   Column          Non-Null Count   Dtype  \n",
            "---  ------          --------------   -----  \n",
            " 0   step            100000 non-null  int64  \n",
            " 1   type            100000 non-null  object \n",
            " 2   amount          100000 non-null  float64\n",
            " 3   nameOrig        100000 non-null  object \n",
            " 4   oldbalanceOrg   100000 non-null  float64\n",
            " 5   newbalanceOrig  100000 non-null  float64\n",
            " 6   nameDest        100000 non-null  object \n",
            " 7   oldbalanceDest  100000 non-null  float64\n",
            " 8   newbalanceDest  100000 non-null  float64\n",
            " 9   isFraud         100000 non-null  int64  \n",
            " 10  isFlaggedFraud  100000 non-null  int64  \n",
            "dtypes: float64(5), int64(3), object(3)\n",
            "memory usage: 9.2+ MB\n",
            "None\n"
          ]
        }
      ]
    },
    {
      "cell_type": "code",
      "source": [
        "print(sample_data.describe())"
      ],
      "metadata": {
        "colab": {
          "base_uri": "https://localhost:8080/"
        },
        "id": "oGBx_iJAtjMl",
        "outputId": "1aff4167-8a44-4c38-ac54-7dd31917d56d"
      },
      "execution_count": 35,
      "outputs": [
        {
          "output_type": "stream",
          "name": "stdout",
          "text": [
            "                step        amount  oldbalanceOrg  newbalanceOrig  \\\n",
            "count  100000.000000  1.000000e+05   1.000000e+05    1.000000e+05   \n",
            "mean      243.709070  1.805811e+05   8.366804e+05    8.582234e+05   \n",
            "std       142.518613  5.586699e+05   2.901104e+06    2.936799e+06   \n",
            "min         1.000000  9.200000e-01   0.000000e+00    0.000000e+00   \n",
            "25%       156.000000  1.350821e+04   0.000000e+00    0.000000e+00   \n",
            "50%       240.000000  7.603086e+04   1.393850e+04    0.000000e+00   \n",
            "75%       335.000000  2.091130e+05   1.070771e+05    1.464169e+05   \n",
            "max       736.000000  3.697390e+07   3.359321e+07    3.388709e+07   \n",
            "\n",
            "       oldbalanceDest  newbalanceDest        isFraud  isFlaggedFraud  \n",
            "count    1.000000e+05    1.000000e+05  100000.000000   100000.000000  \n",
            "mean     1.104193e+06    1.230055e+06       0.001410        0.000010  \n",
            "std      3.223011e+06    3.475326e+06       0.037524        0.003162  \n",
            "min      0.000000e+00    0.000000e+00       0.000000        0.000000  \n",
            "25%      0.000000e+00    0.000000e+00       0.000000        0.000000  \n",
            "50%      1.387482e+05    2.185786e+05       0.000000        0.000000  \n",
            "75%      9.605963e+05    1.126011e+06       0.000000        0.000000  \n",
            "max      2.362896e+08    2.724047e+08       1.000000        1.000000  \n"
          ]
        }
      ]
    },
    {
      "cell_type": "code",
      "source": [
        "\n"
      ],
      "metadata": {
        "id": "arfvD1rAtjSX"
      },
      "execution_count": 35,
      "outputs": []
    },
    {
      "cell_type": "code",
      "source": [
        "''' following features could be important for predicting fraud:\n",
        "Transaction Amount (amount): Fraudulent transactions often involve unusually high or low values.\n",
        "Type of Transaction (type): Certain transaction types, like cash withdrawal, might be more prone to fraud.\n",
        "Origin and Destination Balances (oldbalanceOrg, newbalanceOrig, oldbalanceDest, newbalanceDest):\n",
        "These balances can indicate if a transaction is suspicious.'''"
      ],
      "metadata": {
        "colab": {
          "base_uri": "https://localhost:8080/",
          "height": 87
        },
        "id": "3w5MGTLRtjXb",
        "outputId": "b9d56c7b-798d-4e1e-cc3d-b3b827b09527"
      },
      "execution_count": 36,
      "outputs": [
        {
          "output_type": "execute_result",
          "data": {
            "text/plain": [
              "' following features could be important for predicting fraud:\\nTransaction Amount (amount): Fraudulent transactions often involve unusually high or low values.\\nType of Transaction (type): Certain transaction types, like cash withdrawal, might be more prone to fraud.\\nOrigin and Destination Balances (oldbalanceOrg, newbalanceOrig, oldbalanceDest, newbalanceDest): \\nThese balances can indicate if a transaction is suspicious.'"
            ],
            "application/vnd.google.colaboratory.intrinsic+json": {
              "type": "string"
            }
          },
          "metadata": {},
          "execution_count": 36
        }
      ]
    },
    {
      "cell_type": "markdown",
      "metadata": {
        "id": "ZIuZGQbmsqR_"
      },
      "source": [
        "### What is the distribution of the outcome?"
      ]
    },
    {
      "cell_type": "code",
      "source": [
        "import matplotlib.pyplot as plt\n",
        "import seaborn as sns\n",
        "\n",
        "# Plot the distribution of the target variable ('isFraud')\n",
        "plt.figure(figsize=(6, 4))\n",
        "sns.countplot(x='isFraud', data=sample_data)\n",
        "plt.title('Distribution of Fraudulent vs Non-Fraudulent Transactions')\n",
        "plt.show()\n",
        "\n",
        "# Descriptive Statistics\n",
        "# Example histogram for numerical features like 'amount'\n",
        "plt.figure(figsize=(10, 6))\n",
        "sns.histplot(sample_data['amount'], kde=True)\n",
        "plt.title('Distribution of Transaction Amounts')\n",
        "plt.xlabel('Amount')\n",
        "plt.ylabel('Frequency')\n",
        "plt.show()"
      ],
      "metadata": {
        "colab": {
          "base_uri": "https://localhost:8080/",
          "height": 957
        },
        "id": "3TkrslZdthwL",
        "outputId": "b0a0126c-2691-4ca6-e2ae-d62777657515"
      },
      "execution_count": 37,
      "outputs": [
        {
          "output_type": "display_data",
          "data": {
            "text/plain": [
              "<Figure size 600x400 with 1 Axes>"
            ],
            "image/png": "[encoded data removed]"
          },
          "metadata": {}
        },
        {
          "output_type": "display_data",
          "data": {
            "text/plain": [
              "<Figure size 1000x600 with 1 Axes>"
            ],
            "image/png": "[encoded data removed]"
          },
          "metadata": {}
        }
      ]
    },
    {
      "cell_type": "code",
      "execution_count": 38,
      "metadata": {
        "colab": {
          "base_uri": "https://localhost:8080/",
          "height": 70
        },
        "id": "mJQDrglRsqR_",
        "outputId": "87d26286-b9f1-4b30-8e1d-9a750a9e98bb"
      },
      "outputs": [
        {
          "output_type": "execute_result",
          "data": {
            "text/plain": [
              "'The distribution of the outcome variable (isFraud) is highly imbalanced:\\n\\nNon-Fraudulent Transactions (0): The majority of the transactions are non-fraudulent, with almost all data points belonging to this class.\\nFraudulent Transactions (1): A very small number of transactions are fraudulent, making it a minority class.'"
            ],
            "application/vnd.google.colaboratory.intrinsic+json": {
              "type": "string"
            }
          },
          "metadata": {},
          "execution_count": 38
        }
      ],
      "source": [
        "# Your response here\n",
        "'''The distribution of the outcome variable (isFraud) is highly imbalanced:\n",
        "\n",
        "Non-Fraudulent Transactions (0): The majority of the transactions are non-fraudulent, with almost all data points belonging to this class.\n",
        "Fraudulent Transactions (1): A very small number of transactions are fraudulent, making it a minority class.'''"
      ]
    },
    {
      "cell_type": "markdown",
      "metadata": {
        "id": "HOjXORphsqR_"
      },
      "source": [
        "### Clean the dataset. Pre-process it to make it suitable for ML training. Feel free to explore, drop, encode, transform, etc. Whatever you feel will improve the model score."
      ]
    },
    {
      "cell_type": "code",
      "execution_count": 39,
      "metadata": {
        "colab": {
          "base_uri": "https://localhost:8080/"
        },
        "id": "xRIOM3iMsqR_",
        "outputId": "530c9bd2-2500-4e3f-88c2-acbe46adf787"
      },
      "outputs": [
        {
          "output_type": "stream",
          "name": "stdout",
          "text": [
            "Series([], dtype: int64)\n"
          ]
        }
      ],
      "source": [
        "# Your code here\n",
        "# Check for missing values\n",
        "missing_values = sample_data.isnull().sum()\n",
        "print(missing_values[missing_values > 0])\n",
        "\n",
        "# If there are any missing values, decide how to handle them\n",
        "sample_data = sample_data.dropna()  # Dropping rows with missing values for simplicity\n",
        "\n"
      ]
    },
    {
      "cell_type": "code",
      "source": [
        "# Drop irrelevant columns, such as 'nameOrig' and 'nameDest', which are identifiers\n",
        "sample_data = sample_data.drop(columns=['nameOrig', 'nameDest'])\n"
      ],
      "metadata": {
        "id": "UJy4ebBJw5Ue"
      },
      "execution_count": 40,
      "outputs": []
    },
    {
      "cell_type": "code",
      "source": [
        "# Convert 'type' to numeric using One-Hot Encoding\n",
        "sample_data = pd.get_dummies(sample_data, columns=['type'], drop_first=True)\n"
      ],
      "metadata": {
        "id": "NVv7pRS8w5Z6"
      },
      "execution_count": 41,
      "outputs": []
    },
    {
      "cell_type": "code",
      "source": [
        "from sklearn.preprocessing import StandardScaler\n",
        "\n",
        "# Standardize numerical features\n",
        "numerical_cols = ['amount', 'oldbalanceOrg', 'newbalanceOrig', 'oldbalanceDest', 'newbalanceDest']\n",
        "scaler = StandardScaler()\n",
        "sample_data[numerical_cols] = scaler.fit_transform(sample_data[numerical_cols])\n"
      ],
      "metadata": {
        "id": "PgMfVg_ow5fi"
      },
      "execution_count": 42,
      "outputs": []
    },
    {
      "cell_type": "code",
      "source": [
        "# Your code here\n",
        "from imblearn.over_sampling import SMOTE\n",
        "\n",
        "# Separate features and target\n",
        "X = sample_data.drop(columns=['isFraud'])\n",
        "y = sample_data['isFraud']\n",
        "\n",
        "# Use SMOTE to oversample the minority class\n",
        "smote = SMOTE(random_state=42)\n",
        "X_resampled, y_resampled = smote.fit_resample(X, y)\n"
      ],
      "metadata": {
        "id": "OL-o8g-WxDUF"
      },
      "execution_count": 43,
      "outputs": []
    },
    {
      "cell_type": "code",
      "source": [
        "from sklearn.model_selection import train_test_split\n",
        "\n",
        "# Split data into training (80%) and testing (20%) sets\n",
        "X_train, X_test, y_train, y_test = train_test_split(X_resampled, y_resampled, test_size=0.2, random_state=42)\n"
      ],
      "metadata": {
        "id": "BvY4R2yJxjG7"
      },
      "execution_count": 44,
      "outputs": []
    },
    {
      "cell_type": "code",
      "source": [
        "# Check the distribution of target after resampling\n",
        "print(\"Distribution after resampling:\")\n",
        "print(y_resampled.value_counts())\n",
        "\n",
        "# Print a few rows to verify\n",
        "print(sample_data.head())\n"
      ],
      "metadata": {
        "colab": {
          "base_uri": "https://localhost:8080/"
        },
        "id": "CXCNQMORxjMx",
        "outputId": "71daa0c9-9a39-4afa-c44e-07a36d1ff94e"
      },
      "execution_count": 45,
      "outputs": [
        {
          "output_type": "stream",
          "name": "stdout",
          "text": [
            "Distribution after resampling:\n",
            "isFraud\n",
            "0    99859\n",
            "1    99859\n",
            "Name: count, dtype: int64\n",
            "         step    amount  oldbalanceOrg  newbalanceOrig  oldbalanceDest  \\\n",
            "3737323   278  0.267847      -0.281210       -0.172685       -0.202226   \n",
            "264914     15 -0.302388      -0.277934       -0.285857       -0.342598   \n",
            "85647      10 -0.050687      -0.251661       -0.204091       -0.280140   \n",
            "5899326   403  2.454376      -0.288402       -0.292232        0.649758   \n",
            "2544263   206 -0.183309       0.718575        0.729124       -0.213581   \n",
            "\n",
            "         newbalanceDest  isFraud  isFlaggedFraud  type_CASH_OUT  type_DEBIT  \\\n",
            "3737323       -0.318779        0               0          False       False   \n",
            "264914        -0.353941        0               0          False       False   \n",
            "85647         -0.339831        0               0          False       False   \n",
            "5899326        1.012879        0               0          False       False   \n",
            "2544263       -0.256785        0               0          False       False   \n",
            "\n",
            "         type_PAYMENT  type_TRANSFER  \n",
            "3737323         False          False  \n",
            "264914           True          False  \n",
            "85647           False          False  \n",
            "5899326         False           True  \n",
            "2544263         False          False  \n"
          ]
        }
      ]
    },
    {
      "cell_type": "markdown",
      "metadata": {
        "id": "Tz45oB29sqR_"
      },
      "source": [
        "### Run a logisitc regression classifier and evaluate its accuracy."
      ]
    },
    {
      "cell_type": "code",
      "execution_count": 46,
      "metadata": {
        "colab": {
          "base_uri": "https://localhost:8080/"
        },
        "id": "ZCtFeYEEsqSA",
        "outputId": "f21286ed-e4e7-474c-eb0f-3b1d8d5143cd"
      },
      "outputs": [
        {
          "output_type": "stream",
          "name": "stdout",
          "text": [
            "Accuracy Score: 0.9756408972561587\n",
            "\n",
            "Classification Report:\n",
            "              precision    recall  f1-score   support\n",
            "\n",
            "           0       0.96      0.99      0.98     19913\n",
            "           1       0.99      0.96      0.98     20031\n",
            "\n",
            "    accuracy                           0.98     39944\n",
            "   macro avg       0.98      0.98      0.98     39944\n",
            "weighted avg       0.98      0.98      0.98     39944\n",
            "\n"
          ]
        }
      ],
      "source": [
        "from sklearn.linear_model import LogisticRegression\n",
        "from sklearn.metrics import accuracy_score, classification_report\n",
        "\n",
        "# Step 1: Create and train Logistic Regression model\n",
        "logistic_model = LogisticRegression(max_iter=1000, random_state=42)\n",
        "logistic_model.fit(X_train, y_train)\n",
        "\n",
        "# Step 2: Predict on test data\n",
        "y_test_pred = logistic_model.predict(X_test)\n",
        "\n",
        "# Step 3: Calculate accuracy\n",
        "accuracy = accuracy_score(y_test, y_test_pred)\n",
        "\n",
        "# Print the accuracy and classification report\n",
        "print(\"Accuracy Score:\", accuracy)\n",
        "print(\"\\nClassification Report:\")\n",
        "print(classification_report(y_test, y_test_pred))\n",
        "\n"
      ]
    },
    {
      "cell_type": "markdown",
      "metadata": {
        "id": "F4_ygW3osqSA"
      },
      "source": [
        "### Now pick a model of your choice and evaluate its accuracy."
      ]
    },
    {
      "cell_type": "code",
      "execution_count": 49,
      "metadata": {
        "colab": {
          "base_uri": "https://localhost:8080/"
        },
        "id": "Ti8B6Vn5sqSA",
        "outputId": "4d45db79-a136-4736-cbeb-a4163a6515f7"
      },
      "outputs": [
        {
          "output_type": "stream",
          "name": "stdout",
          "text": [
            "Random Forest Classifier - Accuracy Score: 0.9997246144602443\n",
            "\n",
            "Classification Report:\n",
            "              precision    recall  f1-score   support\n",
            "\n",
            "           0       1.00      1.00      1.00     19913\n",
            "           1       1.00      1.00      1.00     20031\n",
            "\n",
            "    accuracy                           1.00     39944\n",
            "   macro avg       1.00      1.00      1.00     39944\n",
            "weighted avg       1.00      1.00      1.00     39944\n",
            "\n"
          ]
        }
      ],
      "source": [
        "# Your code here\n",
        "from sklearn.ensemble import RandomForestClassifier\n",
        "from sklearn.metrics import accuracy_score, classification_report\n",
        "\n",
        "# Step 1: Create and train Random Forest Classifier\n",
        "rf_model = RandomForestClassifier(n_estimators=100, random_state=42)\n",
        "rf_model.fit(X_train, y_train)\n",
        "\n",
        "# Step 2: Predict on test data\n",
        "y_rf_pred = rf_model.predict(X_test)\n",
        "\n",
        "# Step 3: Calculate accuracy\n",
        "rf_accuracy = accuracy_score(y_test, y_rf_pred)\n",
        "\n",
        "# Print the accuracy and classification report\n",
        "print(\"Random Forest Classifier - Accuracy Score:\", rf_accuracy)\n",
        "print(\"\\nClassification Report:\")\n",
        "print(classification_report(y_test, y_rf_pred))\n"
      ]
    },
    {
      "cell_type": "markdown",
      "metadata": {
        "id": "TBQ0RtossqSA"
      },
      "source": [
        "### Which model worked better and how do you know?"
      ]
    },
    {
      "cell_type": "code",
      "execution_count": 50,
      "metadata": {
        "colab": {
          "base_uri": "https://localhost:8080/",
          "height": 105
        },
        "id": "ezKAr18usqSA",
        "outputId": "b10ee0f0-851c-4e68-b24e-ffd74c99e065"
      },
      "outputs": [
        {
          "output_type": "execute_result",
          "data": {
            "text/plain": [
              "'\\nLogistic Regression: 97.56%\\nRandom Forest: 99.97%\\nSeems like rf is better than lr.\\nRandom Forest Classifier performed significantly better, achieving almost perfect accuracy and F1-score.\\nWhy It’s Better:\\nRandom Forest, as an ensemble model, uses multiple decision trees to make decisions, capturing more complex relationships within the data, which is crucial for this type of problem.\\nHigh accuracy, precision, recall, and F1-score show that Random Forest is capable of distinguishing between fraudulent and non-fraudulent transactions almost perfectly.\\nBased on these metrics, Random Forest Classifier clearly outperformed Logistic Regression in terms of overall performance.\\n'"
            ],
            "application/vnd.google.colaboratory.intrinsic+json": {
              "type": "string"
            }
          },
          "metadata": {},
          "execution_count": 50
        }
      ],
      "source": [
        "# Your response here\n",
        "'''\n",
        "Logistic Regression: 97.56%\n",
        "Random Forest: 99.97%\n",
        "Seems like rf is better than lr.\n",
        "Random Forest Classifier performed significantly better, achieving almost perfect accuracy and F1-score.\n",
        "Why It’s Better:\n",
        "Random Forest, as an ensemble model, uses multiple decision trees to make decisions, capturing more complex relationships within the data, which is crucial for this type of problem.\n",
        "High accuracy, precision, recall, and F1-score show that Random Forest is capable of distinguishing between fraudulent and non-fraudulent transactions almost perfectly.\n",
        "Based on these metrics, Random Forest Classifier clearly outperformed Logistic Regression in terms of overall performance.\n",
        "'''"
      ]
    },
    {
      "cell_type": "markdown",
      "metadata": {
        "id": "8qrxYCEwsqSA"
      },
      "source": [
        "### Note: before doing the first commit, make sure you don't include the large csv file, either by adding it to .gitignore, or by deleting it."
      ]
    }
  ],
  "metadata": {
    "kernelspec": {
      "display_name": "Python 3",
      "language": "python",
      "name": "python3"
    },
    "language_info": {
      "codemirror_mode": {
        "name": "ipython",
        "version": 3
      },
      "file_extension": ".py",
      "mimetype": "text/x-python",
      "name": "python",
      "nbconvert_exporter": "python",
      "pygments_lexer": "ipython3",
      "version": "3.6.8"
    },
    "colab": {
      "provenance": []
    }
  },
  "nbformat": 4,
  "nbformat_minor": 0
}